{
 "cells": [
  {
   "cell_type": "markdown",
   "id": "c05cb34f",
   "metadata": {},
   "source": [
    "# App profitability in Apple App Store and Google Play Store"
   ]
  },
  {
   "cell_type": "markdown",
   "id": "970dc515",
   "metadata": {},
   "source": [
    "## About\n",
    "For this project we assume that we're working for a company making mobile apps for iOS and Android devices, placing them in AppStore and Play Store storefronts respectively. Apps are offered for free for an english speaking audience and our main revenue is through advertisements placed in the app. App profitability is closely tied with the number of users the app has.\n",
    "Goal of this excersise is to determine which apps tend to be the most profitable and are likely to succeed in the future."
   ]
  },
  {
   "cell_type": "markdown",
   "id": "cd201011",
   "metadata": {},
   "source": [
    "## Data\n",
    "This project uses two datasets:\n",
    " - Dataset of 10k apps from Google Play Store https://www.kaggle.com/datasets/lava18/google-play-store-apps\n",
    " - Dataset of 7.2k apps from Apple AppStore https://www.kaggle.com/datasets/ramamet4/app-store-apple-data-set-10k-apps"
   ]
  },
  {
   "cell_type": "code",
   "execution_count": 1,
   "id": "43eeaeb9",
   "metadata": {},
   "outputs": [],
   "source": [
    "from csv import reader"
   ]
  },
  {
   "cell_type": "code",
   "execution_count": 2,
   "id": "d9a53160",
   "metadata": {},
   "outputs": [],
   "source": [
    "def explore_data(dataset, start, end, rows_and_columns=False):\n",
    "    #function that will print rows from datastet starting at [start] and ending at [end] indexes\n",
    "    #function will also print number of rows and columns if optional parameter is True\n",
    "    dataset_slice = dataset[start:end]    \n",
    "    for row in dataset_slice:\n",
    "        print(row)\n",
    "        print('\\n') # adds a new (empty) line after each row\n",
    "\n",
    "    if rows_and_columns:\n",
    "        print('Number of rows:', len(dataset))\n",
    "        print('Number of columns:', len(dataset[0]))"
   ]
  },
  {
   "cell_type": "code",
   "execution_count": 3,
   "id": "66270f84",
   "metadata": {},
   "outputs": [],
   "source": [
    "def read_from_csv(path):\n",
    "    #function that will open a csv file and process it into two lists\n",
    "    #first list being the header row of the dataset, the second being list of lists containing the whole dataset\n",
    "    opened_file = open(path, encoding='utf8') #Added encoding for utf8 since it gives UnicodeDecodeError otherwise.\n",
    "    read_file = reader(opened_file)\n",
    "    apps_data = list(read_file)\n",
    "    return apps_data[0], apps_data[1:] #dataset[1:] ignores the header row and starts at the first data entry"
   ]
  },
  {
   "cell_type": "code",
   "execution_count": 4,
   "id": "7ee078da",
   "metadata": {},
   "outputs": [],
   "source": [
    "#importing apple app store data\n",
    "apple_apps_header, apple_apps_data = read_from_csv(r'C:\\Users\\ricar\\Documents\\Datasets\\Project_1\\AppleStore.csv')\n",
    "#importing google play store data\n",
    "google_apps_header, google_apps_data = read_from_csv(r'C:\\Users\\ricar\\Documents\\Datasets\\Project_1\\googleplaystore.csv')"
   ]
  },
  {
   "cell_type": "code",
   "execution_count": 5,
   "id": "34b6c8a7",
   "metadata": {},
   "outputs": [
    {
     "name": "stdout",
     "output_type": "stream",
     "text": [
      "['', 'id', 'track_name', 'size_bytes', 'currency', 'price', 'rating_count_tot', 'rating_count_ver', 'user_rating', 'user_rating_ver', 'ver', 'cont_rating', 'prime_genre', 'sup_devices.num', 'ipadSc_urls.num', 'lang.num', 'vpp_lic'] \n",
      "\n",
      "['1', '281656475', 'PAC-MAN Premium', '100788224', 'USD', '3.99', '21292', '26', '4', '4.5', '6.3.5', '4+', 'Games', '38', '5', '10', '1']\n",
      "\n",
      "\n",
      "['2', '281796108', 'Evernote - stay organized', '158578688', 'USD', '0', '161065', '26', '4', '3.5', '8.2.2', '4+', 'Productivity', '37', '5', '23', '1']\n",
      "\n",
      "\n",
      "['3', '281940292', 'WeatherBug - Local Weather, Radar, Maps, Alerts', '100524032', 'USD', '0', '188583', '2822', '3.5', '4.5', '5.0.0', '4+', 'Weather', '37', '5', '3', '1']\n",
      "\n",
      "\n",
      "Number of rows: 7197\n",
      "Number of columns: 17\n"
     ]
    }
   ],
   "source": [
    "#exploring the apple app store dataset\n",
    "print(apple_apps_header, \"\\n\")\n",
    "explore_data(apple_apps_data, 0, 3, True) "
   ]
  },
  {
   "cell_type": "markdown",
   "id": "00285e35",
   "metadata": {},
   "source": [
    "We can see that the Apple app store dataset has 7197 rows, and 17 columns. Upon glancing at the data we can say that 'price', 'prime_genre' and 'rating_count_tot' colums might provide us with useful information for further analysis."
   ]
  },
  {
   "cell_type": "code",
   "execution_count": 6,
   "id": "33fa0731",
   "metadata": {},
   "outputs": [
    {
     "name": "stdout",
     "output_type": "stream",
     "text": [
      "['App', 'Category', 'Rating', 'Reviews', 'Size', 'Installs', 'Type', 'Price', 'Content Rating', 'Genres', 'Last Updated', 'Current Ver', 'Android Ver'] \n",
      "\n",
      "['Photo Editor & Candy Camera & Grid & ScrapBook', 'ART_AND_DESIGN', '4.1', '159', '19M', '10,000+', 'Free', '0', 'Everyone', 'Art & Design', 'January 7, 2018', '1.0.0', '4.0.3 and up']\n",
      "\n",
      "\n",
      "['Coloring book moana', 'ART_AND_DESIGN', '3.9', '967', '14M', '500,000+', 'Free', '0', 'Everyone', 'Art & Design;Pretend Play', 'January 15, 2018', '2.0.0', '4.0.3 and up']\n",
      "\n",
      "\n",
      "['U Launcher Lite – FREE Live Cool Themes, Hide Apps', 'ART_AND_DESIGN', '4.7', '87510', '8.7M', '5,000,000+', 'Free', '0', 'Everyone', 'Art & Design', 'August 1, 2018', '1.2.4', '4.0.3 and up']\n",
      "\n",
      "\n",
      "Number of rows: 10841\n",
      "Number of columns: 13\n"
     ]
    }
   ],
   "source": [
    "#exploring the google play store dataset\n",
    "print(google_apps_header, \"\\n\")\n",
    "explore_data(google_apps_data, 0, 3, True)"
   ]
  },
  {
   "cell_type": "markdown",
   "id": "01e47d88",
   "metadata": {},
   "source": [
    "Google Play store dataset is larger in terms of rows, 108041 rows, and while it has less columns than the Apple datasource we can see, that it has more useful columns here the :'Category', 'Rating', 'Reviews', 'Installs', 'Type', 'Price' and 'Genre' columns might provide us with useful information."
   ]
  },
  {
   "cell_type": "markdown",
   "id": "6217f2b3",
   "metadata": {},
   "source": [
    "## Data Cleanup and preparation\n",
    "In the about section we made two assumptions:\n",
    " - Apps we make are free\n",
    " - Apps we make are for an english-speaking audience\n",
    "\n",
    "Provided these assumptions we need to cleanup any data that does not mach our criteria, as well as any incorrect data.\n",
    "### Pt.1 Cleaning up incorrect data:\n",
    "Looking into the source of the Google Play store dataset in kaggle.com we can find this in the discussion section for the dataset. https://www.kaggle.com/datasets/lava18/google-play-store-apps/discussion/66015"
   ]
  },
  {
   "cell_type": "code",
   "execution_count": 7,
   "id": "e1705305",
   "metadata": {},
   "outputs": [
    {
     "name": "stdout",
     "output_type": "stream",
     "text": [
      "['App', 'Category', 'Rating', 'Reviews', 'Size', 'Installs', 'Type', 'Price', 'Content Rating', 'Genres', 'Last Updated', 'Current Ver', 'Android Ver'] \n",
      "\n",
      "['Xposed Wi-Fi-Pwd', 'PERSONALIZATION', '3.5', '1042', '404k', '100,000+', 'Free', '0', 'Everyone', 'Personalization', 'August 5, 2014', '3.0.0', '4.0.3 and up']\n",
      "\n",
      "\n",
      "['Life Made WI-Fi Touchscreen Photo Frame', '1.9', '19', '3.0M', '1,000+', 'Free', '0', 'Everyone', '', 'February 11, 2018', '1.0.19', '4.0 and up']\n",
      "\n",
      "\n",
      "['osmino Wi-Fi: free WiFi', 'TOOLS', '4.2', '134203', '4.1M', '10,000,000+', 'Free', '0', 'Everyone', 'Tools', 'August 7, 2018', '6.06.14', '4.4 and up']\n",
      "\n",
      "\n"
     ]
    }
   ],
   "source": [
    "print(google_apps_header, \"\\n\")\n",
    "explore_data(google_apps_data, 10471, 10474, False)"
   ]
  },
  {
   "cell_type": "markdown",
   "id": "d78d68a1",
   "metadata": {},
   "source": [
    "Here we can see that 'Life Made WI-Fi Touchscreen Photo Frame' app is missing it's 'Category' entry, thus all other entries are shifted to the left, 'Rating' is in the place of 'Category', 'Reviews' is in place of 'Rating', and so on."
   ]
  },
  {
   "cell_type": "markdown",
   "id": "ef751cdb",
   "metadata": {},
   "source": [
    "Let's check if any other value in the dataset is missing one or more column entries. Looking at the header, we can determine the length that each row should be, in this case each row in the Apple datasource should be 17 entries long, while the Google datasource 13 entries long.\n",
    "\n",
    "To analyze both datasets let's write a function that checks the length of each row."
   ]
  },
  {
   "cell_type": "code",
   "execution_count": 8,
   "id": "e95b586c",
   "metadata": {},
   "outputs": [],
   "source": [
    "def check_line_entry(dataset, line_length):\n",
    "    #function takes two parameters the dataset, and expected row length\n",
    "    i = 0\n",
    "    list_of_indexes = []\n",
    "    #making a list of row indexes, that do not match the expected row length\n",
    "    for entry in dataset:\n",
    "        if len(entry) != line_length:\n",
    "            list_of_indexes.append(i)\n",
    "        i += 1\n",
    "    return list_of_indexes"
   ]
  },
  {
   "cell_type": "markdown",
   "id": "4df91d29",
   "metadata": {},
   "source": [
    "Using the function above let's check the Google Play store dataset for other rows with missing data."
   ]
  },
  {
   "cell_type": "code",
   "execution_count": 9,
   "id": "c4bf7a06",
   "metadata": {},
   "outputs": [
    {
     "name": "stdout",
     "output_type": "stream",
     "text": [
      "[10472]\n"
     ]
    }
   ],
   "source": [
    "google_bad_index = check_line_entry(google_apps_data, len(google_apps_header))\n",
    "print(google_bad_index)"
   ]
  },
  {
   "cell_type": "markdown",
   "id": "0e87a2db",
   "metadata": {},
   "source": [
    "It appears that only one data entry was missing it's data.  Having this information we can safely remove this entry from our dataset. For that let's write a function, that we can later re-use with the Apple dataset as well."
   ]
  },
  {
   "cell_type": "code",
   "execution_count": 10,
   "id": "da7ea1ad",
   "metadata": {},
   "outputs": [],
   "source": [
    "def remove_entries(dataset, list_of_index):\n",
    "    #function takes the dataset and list of indexes, for which rows need to be removed\n",
    "    removed = 0\n",
    "    for ind in list_of_index:\n",
    "        del dataset[ind - removed] #Counting how many items were removed and adjusting the index accordingly.\n",
    "        removed += 1 "
   ]
  },
  {
   "cell_type": "code",
   "execution_count": 11,
   "id": "2c1243b0",
   "metadata": {},
   "outputs": [],
   "source": [
    "remove_entries(google_apps_data, google_bad_index)"
   ]
  },
  {
   "cell_type": "markdown",
   "id": "a7a10dfb",
   "metadata": {},
   "source": [
    "Checking if the removal of the incorrect values was successful. It appears so, row containing data for 'Life Made WI-Fi Touchscreen Photo Frame' app no longer exists."
   ]
  },
  {
   "cell_type": "code",
   "execution_count": 12,
   "id": "879bc8ad",
   "metadata": {},
   "outputs": [
    {
     "name": "stdout",
     "output_type": "stream",
     "text": [
      "['Xposed Wi-Fi-Pwd', 'PERSONALIZATION', '3.5', '1042', '404k', '100,000+', 'Free', '0', 'Everyone', 'Personalization', 'August 5, 2014', '3.0.0', '4.0.3 and up']\n",
      "\n",
      "\n",
      "['osmino Wi-Fi: free WiFi', 'TOOLS', '4.2', '134203', '4.1M', '10,000,000+', 'Free', '0', 'Everyone', 'Tools', 'August 7, 2018', '6.06.14', '4.4 and up']\n",
      "\n",
      "\n",
      "['Sat-Fi Voice', 'COMMUNICATION', '3.4', '37', '14M', '1,000+', 'Free', '0', 'Everyone', 'Communication', 'November 21, 2014', '2.2.1.5', '2.2 and up']\n",
      "\n",
      "\n"
     ]
    }
   ],
   "source": [
    "explore_data(google_apps_data, 10471, 10474, False)"
   ]
  },
  {
   "cell_type": "markdown",
   "id": "e85750be",
   "metadata": {},
   "source": [
    "Let's try the same approach for the Apple app store dataset."
   ]
  },
  {
   "cell_type": "code",
   "execution_count": 13,
   "id": "556bb0cc",
   "metadata": {},
   "outputs": [
    {
     "name": "stdout",
     "output_type": "stream",
     "text": [
      "[]\n"
     ]
    }
   ],
   "source": [
    "apple_bad_index = check_line_entry(apple_apps_data, len(apple_apps_header))\n",
    "print(apple_bad_index)"
   ]
  },
  {
   "cell_type": "markdown",
   "id": "f7e3751b",
   "metadata": {},
   "source": [
    "Appears that in the Apple AppStore dataset no data entries are missing values.\n",
    "### Pt. 2 Cleaning up duplicate data\n",
    "Having made sure no incorrect data remains in both datasources, the next step in preparing the data is to clean up any duplicate values. \n",
    "\n",
    "We need to check for duplicate app names in both datasources. The question then becomes if we find two apps with the same name which one we should keep. For this we will use the 'rating_count_tot' column in the Apple dataset and the 'Reviews'. This will give us a unique identifier for the app and we will keep the entry that has the most ratings/reviews. For that let's write a fuction that can be applied for both datasets."
   ]
  },
  {
   "cell_type": "code",
   "execution_count": 14,
   "id": "5f184ca6",
   "metadata": {},
   "outputs": [],
   "source": [
    "def check_duplicate_names(dataset, name_column_id, review_column_id):\n",
    "    #function that takes the datasource, name column id, and review count column id\n",
    "    unique_name = {}\n",
    "    #creating a dictionary, that will use app name as key, and the greateast amount of reviews as value\n",
    "    for entry in dataset:\n",
    "        if entry[name_column_id] in unique_name:\n",
    "            if unique_name[entry[name_column_id]] < float(entry[review_column_id]):\n",
    "                unique_name[entry[name_column_id]] = float(entry[review_column_id])\n",
    "        else:\n",
    "            unique_name[entry[name_column_id]] = float(entry[review_column_id])\n",
    "    return unique_name #id_of_duplicates"
   ]
  },
  {
   "cell_type": "code",
   "execution_count": 15,
   "id": "e50bf1ef",
   "metadata": {},
   "outputs": [],
   "source": [
    "unique_google = check_duplicate_names(google_apps_data, 0, 3)"
   ]
  },
  {
   "cell_type": "code",
   "execution_count": 16,
   "id": "0f1eb193",
   "metadata": {},
   "outputs": [],
   "source": [
    "unique_apple = check_duplicate_names(apple_apps_data, 2, 6)"
   ]
  },
  {
   "cell_type": "code",
   "execution_count": 17,
   "id": "c218ea19",
   "metadata": {},
   "outputs": [],
   "source": [
    "def cleanup_duplicates(unique_dictionary, dataset, name_col_id, review_col_id):\n",
    "    clean = []\n",
    "    already_in_dataset = []\n",
    "    for entry in dataset:\n",
    "        name = entry[name_col_id]\n",
    "        reviews = entry[review_col_id]\n",
    "        if name not in already_in_dataset:\n",
    "            if (name not in clean) and (float(reviews) == unique_dictionary[name]):\n",
    "                clean.append(entry)\n",
    "                already_in_dataset.append(name)\n",
    "                \n",
    "    return clean"
   ]
  },
  {
   "cell_type": "code",
   "execution_count": 18,
   "id": "10861ce6",
   "metadata": {},
   "outputs": [],
   "source": [
    "unique_google_data = cleanup_duplicates(unique_google, google_apps_data, 0, 3)"
   ]
  },
  {
   "cell_type": "code",
   "execution_count": 19,
   "id": "d20ce82e",
   "metadata": {},
   "outputs": [],
   "source": [
    "unique_apple_data = cleanup_duplicates(unique_apple, apple_apps_data, 2, 6)"
   ]
  },
  {
   "cell_type": "code",
   "execution_count": 20,
   "id": "3acc2a1d",
   "metadata": {},
   "outputs": [],
   "source": [
    "def is_name_english(name):\n",
    "    non_english_letters = 0\n",
    "    for letter in name:\n",
    "        if ord(letter) > 127:\n",
    "            non_english_letters += 1\n",
    "        \n",
    "    if non_english_letters > 3:\n",
    "        return False\n",
    "    else:\n",
    "        return True"
   ]
  },
  {
   "cell_type": "code",
   "execution_count": 21,
   "id": "cd76889e",
   "metadata": {},
   "outputs": [
    {
     "data": {
      "text/plain": [
       "True"
      ]
     },
     "execution_count": 21,
     "metadata": {},
     "output_type": "execute_result"
    }
   ],
   "source": [
    "is_name_english('Instagram')"
   ]
  },
  {
   "cell_type": "code",
   "execution_count": 22,
   "id": "69830d1a",
   "metadata": {},
   "outputs": [
    {
     "data": {
      "text/plain": [
       "False"
      ]
     },
     "execution_count": 22,
     "metadata": {},
     "output_type": "execute_result"
    }
   ],
   "source": [
    "is_name_english('爱奇艺PPS -《欢乐颂2》电视剧热播')"
   ]
  },
  {
   "cell_type": "code",
   "execution_count": 23,
   "id": "bc66f34b",
   "metadata": {},
   "outputs": [
    {
     "data": {
      "text/plain": [
       "True"
      ]
     },
     "execution_count": 23,
     "metadata": {},
     "output_type": "execute_result"
    }
   ],
   "source": [
    "is_name_english('Docs To Go™ Free Office Suite')"
   ]
  },
  {
   "cell_type": "code",
   "execution_count": 24,
   "id": "0487ca5e",
   "metadata": {},
   "outputs": [
    {
     "data": {
      "text/plain": [
       "True"
      ]
     },
     "execution_count": 24,
     "metadata": {},
     "output_type": "execute_result"
    }
   ],
   "source": [
    "is_name_english('Instachat 😜')"
   ]
  },
  {
   "cell_type": "code",
   "execution_count": 25,
   "id": "2303c739",
   "metadata": {},
   "outputs": [],
   "source": [
    "def cleanup_non_english(dataset, name_col_id):\n",
    "    english_apps = []\n",
    "    for entry in dataset:\n",
    "        name = entry[name_col_id]\n",
    "        if is_name_english(name):\n",
    "            english_apps.append(entry)\n",
    "    \n",
    "    return english_apps"
   ]
  },
  {
   "cell_type": "code",
   "execution_count": 26,
   "id": "045345c9",
   "metadata": {},
   "outputs": [],
   "source": [
    "english_google_data = cleanup_non_english(unique_google_data, 0)"
   ]
  },
  {
   "cell_type": "code",
   "execution_count": 27,
   "id": "40d8b8b4",
   "metadata": {},
   "outputs": [],
   "source": [
    "english_apple_data = cleanup_non_english(unique_apple_data, 2)"
   ]
  },
  {
   "cell_type": "code",
   "execution_count": 28,
   "id": "fcb61270",
   "metadata": {},
   "outputs": [
    {
     "name": "stdout",
     "output_type": "stream",
     "text": [
      "['Photo Editor & Candy Camera & Grid & ScrapBook', 'ART_AND_DESIGN', '4.1', '159', '19M', '10,000+', 'Free', '0', 'Everyone', 'Art & Design', 'January 7, 2018', '1.0.0', '4.0.3 and up']\n",
      "\n",
      "\n",
      "['U Launcher Lite – FREE Live Cool Themes, Hide Apps', 'ART_AND_DESIGN', '4.7', '87510', '8.7M', '5,000,000+', 'Free', '0', 'Everyone', 'Art & Design', 'August 1, 2018', '1.2.4', '4.0.3 and up']\n",
      "\n",
      "\n",
      "Number of rows: 9614\n",
      "Number of columns: 13\n"
     ]
    }
   ],
   "source": [
    "explore_data(english_google_data, 0, 2, True)"
   ]
  },
  {
   "cell_type": "code",
   "execution_count": 29,
   "id": "09f5257f",
   "metadata": {},
   "outputs": [
    {
     "name": "stdout",
     "output_type": "stream",
     "text": [
      "['1', '281656475', 'PAC-MAN Premium', '100788224', 'USD', '3.99', '21292', '26', '4', '4.5', '6.3.5', '4+', 'Games', '38', '5', '10', '1']\n",
      "\n",
      "\n",
      "['2', '281796108', 'Evernote - stay organized', '158578688', 'USD', '0', '161065', '26', '4', '3.5', '8.2.2', '4+', 'Productivity', '37', '5', '23', '1']\n",
      "\n",
      "\n",
      "Number of rows: 6181\n",
      "Number of columns: 17\n"
     ]
    }
   ],
   "source": [
    "explore_data(english_apple_data, 0, 2, True)"
   ]
  },
  {
   "cell_type": "code",
   "execution_count": 30,
   "id": "719b3881",
   "metadata": {},
   "outputs": [],
   "source": [
    "def convert_price_to_float(price_str):\n",
    "    if price_str[:1] == '$':\n",
    "        return float(price_str[1:])\n",
    "    else:\n",
    "        return float(price_str)"
   ]
  },
  {
   "cell_type": "code",
   "execution_count": 31,
   "id": "bcefd207",
   "metadata": {},
   "outputs": [],
   "source": [
    "def isolate_free(dataset, price_col_id):\n",
    "    free_apps = []\n",
    "    for entry in dataset:\n",
    "        price = convert_price_to_float(entry[price_col_id])\n",
    "        if price == 0:\n",
    "            free_apps.append(entry)\n",
    "            \n",
    "    return  free_apps"
   ]
  },
  {
   "cell_type": "code",
   "execution_count": 32,
   "id": "5d7def73",
   "metadata": {},
   "outputs": [
    {
     "name": "stdout",
     "output_type": "stream",
     "text": [
      "['Photo Editor & Candy Camera & Grid & ScrapBook', 'ART_AND_DESIGN', '4.1', '159', '19M', '10,000+', 'Free', '0', 'Everyone', 'Art & Design', 'January 7, 2018', '1.0.0', '4.0.3 and up']\n",
      "\n",
      "\n",
      "['U Launcher Lite – FREE Live Cool Themes, Hide Apps', 'ART_AND_DESIGN', '4.7', '87510', '8.7M', '5,000,000+', 'Free', '0', 'Everyone', 'Art & Design', 'August 1, 2018', '1.2.4', '4.0.3 and up']\n",
      "\n",
      "\n",
      "Number of rows: 8864\n",
      "Number of columns: 13\n"
     ]
    }
   ],
   "source": [
    "free_google_data = isolate_free(english_google_data, 7)\n",
    "explore_data(free_google_data, 0, 2, True)"
   ]
  },
  {
   "cell_type": "code",
   "execution_count": 33,
   "id": "1c011e39",
   "metadata": {},
   "outputs": [
    {
     "name": "stdout",
     "output_type": "stream",
     "text": [
      "['2', '281796108', 'Evernote - stay organized', '158578688', 'USD', '0', '161065', '26', '4', '3.5', '8.2.2', '4+', 'Productivity', '37', '5', '23', '1']\n",
      "\n",
      "\n",
      "['3', '281940292', 'WeatherBug - Local Weather, Radar, Maps, Alerts', '100524032', 'USD', '0', '188583', '2822', '3.5', '4.5', '5.0.0', '4+', 'Weather', '37', '5', '3', '1']\n",
      "\n",
      "\n",
      "Number of rows: 3220\n",
      "Number of columns: 17\n"
     ]
    }
   ],
   "source": [
    "free_apple_data = isolate_free(english_apple_data, 5)\n",
    "explore_data(free_apple_data, 0, 2, True)"
   ]
  },
  {
   "cell_type": "code",
   "execution_count": 34,
   "id": "f4f49806",
   "metadata": {},
   "outputs": [],
   "source": [
    "def data_frequency(dataset, frequency_column_id):\n",
    "    frequency_table = {}\n",
    "    entry_count = len(dataset)\n",
    "    for entry in dataset:\n",
    "        frequency_value = entry[frequency_column_id]\n",
    "        if frequency_value in frequency_table:\n",
    "            frequency_table[frequency_value] += 1\n",
    "        else:\n",
    "            frequency_table[frequency_value] = 1\n",
    "    \n",
    "    for key in frequency_table:\n",
    "        frequency_table[key] = float(\"{:.2f}\".format((frequency_table[key] * 100) / entry_count))\n",
    "    return frequency_table"
   ]
  },
  {
   "cell_type": "code",
   "execution_count": 35,
   "id": "c55ab189",
   "metadata": {},
   "outputs": [],
   "source": [
    "google_genre_frequency = data_frequency(free_google_data, 9)"
   ]
  },
  {
   "cell_type": "code",
   "execution_count": 36,
   "id": "196a2694",
   "metadata": {},
   "outputs": [
    {
     "name": "stdout",
     "output_type": "stream",
     "text": [
      "{'Productivity': 1.74, 'Weather': 0.87, 'Shopping': 2.61, 'Reference': 0.56, 'Finance': 1.12, 'Music': 2.05, 'Utilities': 2.52, 'Travel': 1.24, 'Social Networking': 3.29, 'Sports': 2.14, 'Health & Fitness': 2.02, 'Games': 58.14, 'Food & Drink': 0.81, 'News': 1.34, 'Book': 0.43, 'Photo & Video': 4.97, 'Entertainment': 7.89, 'Business': 0.53, 'Lifestyle': 1.58, 'Education': 3.66, 'Navigation': 0.19, 'Medical': 0.19, 'Catalogs': 0.12}\n"
     ]
    }
   ],
   "source": [
    "apple_genre_frequency = data_frequency(free_apple_data, 12)\n",
    "print(apple_genre_frequency)"
   ]
  },
  {
   "cell_type": "code",
   "execution_count": 37,
   "id": "81834345",
   "metadata": {},
   "outputs": [],
   "source": [
    "def display_table(dataset, index):\n",
    "    table = data_frequency(dataset, index)\n",
    "    table_display = []\n",
    "    for key in table:\n",
    "        key_val_as_tuple = (table[key], key)\n",
    "        table_display.append(key_val_as_tuple)\n",
    "\n",
    "    table_sorted = sorted(table_display, reverse = True)\n",
    "    for entry in table_sorted:\n",
    "        print(entry[1], ':', entry[0], '%')"
   ]
  },
  {
   "cell_type": "code",
   "execution_count": 38,
   "id": "7e1fada5",
   "metadata": {},
   "outputs": [
    {
     "name": "stdout",
     "output_type": "stream",
     "text": [
      "Tools : 8.45 %\n",
      "Entertainment : 6.07 %\n",
      "Education : 5.35 %\n",
      "Business : 4.59 %\n",
      "Productivity : 3.89 %\n",
      "Lifestyle : 3.89 %\n",
      "Finance : 3.7 %\n",
      "Medical : 3.53 %\n",
      "Sports : 3.46 %\n",
      "Personalization : 3.32 %\n",
      "Communication : 3.24 %\n",
      "Action : 3.1 %\n",
      "Health & Fitness : 3.08 %\n",
      "Photography : 2.94 %\n",
      "News & Magazines : 2.8 %\n",
      "Social : 2.66 %\n",
      "Travel & Local : 2.32 %\n",
      "Shopping : 2.25 %\n",
      "Books & Reference : 2.14 %\n",
      "Simulation : 2.04 %\n",
      "Dating : 1.86 %\n",
      "Arcade : 1.85 %\n",
      "Video Players & Editors : 1.77 %\n",
      "Casual : 1.76 %\n",
      "Maps & Navigation : 1.4 %\n",
      "Food & Drink : 1.24 %\n",
      "Puzzle : 1.13 %\n",
      "Racing : 0.99 %\n",
      "Role Playing : 0.94 %\n",
      "Libraries & Demo : 0.94 %\n",
      "Auto & Vehicles : 0.93 %\n",
      "Strategy : 0.91 %\n",
      "House & Home : 0.82 %\n",
      "Weather : 0.8 %\n",
      "Events : 0.71 %\n",
      "Adventure : 0.68 %\n",
      "Comics : 0.61 %\n",
      "Beauty : 0.6 %\n",
      "Art & Design : 0.6 %\n",
      "Parenting : 0.5 %\n",
      "Card : 0.45 %\n",
      "Casino : 0.43 %\n",
      "Trivia : 0.42 %\n",
      "Educational;Education : 0.39 %\n",
      "Board : 0.38 %\n",
      "Educational : 0.37 %\n",
      "Education;Education : 0.34 %\n",
      "Word : 0.26 %\n",
      "Casual;Pretend Play : 0.24 %\n",
      "Music : 0.2 %\n",
      "Racing;Action & Adventure : 0.17 %\n",
      "Puzzle;Brain Games : 0.17 %\n",
      "Entertainment;Music & Video : 0.17 %\n",
      "Casual;Brain Games : 0.14 %\n",
      "Casual;Action & Adventure : 0.14 %\n",
      "Arcade;Action & Adventure : 0.12 %\n",
      "Action;Action & Adventure : 0.1 %\n",
      "Educational;Pretend Play : 0.09 %\n",
      "Simulation;Action & Adventure : 0.08 %\n",
      "Parenting;Education : 0.08 %\n",
      "Entertainment;Brain Games : 0.08 %\n",
      "Board;Brain Games : 0.08 %\n",
      "Parenting;Music & Video : 0.07 %\n",
      "Educational;Brain Games : 0.07 %\n",
      "Casual;Creativity : 0.07 %\n",
      "Art & Design;Creativity : 0.07 %\n",
      "Education;Pretend Play : 0.06 %\n",
      "Role Playing;Pretend Play : 0.05 %\n",
      "Education;Creativity : 0.05 %\n",
      "Role Playing;Action & Adventure : 0.03 %\n",
      "Puzzle;Action & Adventure : 0.03 %\n",
      "Entertainment;Creativity : 0.03 %\n",
      "Entertainment;Action & Adventure : 0.03 %\n",
      "Educational;Creativity : 0.03 %\n",
      "Educational;Action & Adventure : 0.03 %\n",
      "Education;Music & Video : 0.03 %\n",
      "Education;Brain Games : 0.03 %\n",
      "Education;Action & Adventure : 0.03 %\n",
      "Adventure;Action & Adventure : 0.03 %\n",
      "Video Players & Editors;Music & Video : 0.02 %\n",
      "Sports;Action & Adventure : 0.02 %\n",
      "Simulation;Pretend Play : 0.02 %\n",
      "Puzzle;Creativity : 0.02 %\n",
      "Music;Music & Video : 0.02 %\n",
      "Entertainment;Pretend Play : 0.02 %\n",
      "Casual;Education : 0.02 %\n",
      "Board;Action & Adventure : 0.02 %\n",
      "Video Players & Editors;Creativity : 0.01 %\n",
      "Trivia;Education : 0.01 %\n",
      "Travel & Local;Action & Adventure : 0.01 %\n",
      "Tools;Education : 0.01 %\n",
      "Strategy;Education : 0.01 %\n",
      "Strategy;Creativity : 0.01 %\n",
      "Strategy;Action & Adventure : 0.01 %\n",
      "Simulation;Education : 0.01 %\n",
      "Role Playing;Brain Games : 0.01 %\n",
      "Racing;Pretend Play : 0.01 %\n",
      "Puzzle;Education : 0.01 %\n",
      "Parenting;Brain Games : 0.01 %\n",
      "Music & Audio;Music & Video : 0.01 %\n",
      "Lifestyle;Pretend Play : 0.01 %\n",
      "Lifestyle;Education : 0.01 %\n",
      "Health & Fitness;Education : 0.01 %\n",
      "Health & Fitness;Action & Adventure : 0.01 %\n",
      "Entertainment;Education : 0.01 %\n",
      "Communication;Creativity : 0.01 %\n",
      "Comics;Creativity : 0.01 %\n",
      "Casual;Music & Video : 0.01 %\n",
      "Card;Action & Adventure : 0.01 %\n",
      "Books & Reference;Education : 0.01 %\n",
      "Art & Design;Pretend Play : 0.01 %\n",
      "Art & Design;Action & Adventure : 0.01 %\n",
      "Arcade;Pretend Play : 0.01 %\n",
      "Adventure;Education : 0.01 %\n"
     ]
    }
   ],
   "source": [
    "display_table(free_google_data, 9)"
   ]
  },
  {
   "cell_type": "code",
   "execution_count": 39,
   "id": "215f84c2",
   "metadata": {},
   "outputs": [
    {
     "name": "stdout",
     "output_type": "stream",
     "text": [
      "FAMILY : 18.91 %\n",
      "GAME : 9.72 %\n",
      "TOOLS : 8.46 %\n",
      "BUSINESS : 4.59 %\n",
      "LIFESTYLE : 3.9 %\n",
      "PRODUCTIVITY : 3.89 %\n",
      "FINANCE : 3.7 %\n",
      "MEDICAL : 3.53 %\n",
      "SPORTS : 3.4 %\n",
      "PERSONALIZATION : 3.32 %\n",
      "COMMUNICATION : 3.24 %\n",
      "HEALTH_AND_FITNESS : 3.08 %\n",
      "PHOTOGRAPHY : 2.94 %\n",
      "NEWS_AND_MAGAZINES : 2.8 %\n",
      "SOCIAL : 2.66 %\n",
      "TRAVEL_AND_LOCAL : 2.34 %\n",
      "SHOPPING : 2.25 %\n",
      "BOOKS_AND_REFERENCE : 2.14 %\n",
      "DATING : 1.86 %\n",
      "VIDEO_PLAYERS : 1.79 %\n",
      "MAPS_AND_NAVIGATION : 1.4 %\n",
      "FOOD_AND_DRINK : 1.24 %\n",
      "EDUCATION : 1.16 %\n",
      "ENTERTAINMENT : 0.96 %\n",
      "LIBRARIES_AND_DEMO : 0.94 %\n",
      "AUTO_AND_VEHICLES : 0.93 %\n",
      "HOUSE_AND_HOME : 0.82 %\n",
      "WEATHER : 0.8 %\n",
      "EVENTS : 0.71 %\n",
      "PARENTING : 0.65 %\n",
      "ART_AND_DESIGN : 0.64 %\n",
      "COMICS : 0.62 %\n",
      "BEAUTY : 0.6 %\n"
     ]
    }
   ],
   "source": [
    "display_table(free_google_data, 1)"
   ]
  },
  {
   "cell_type": "code",
   "execution_count": 40,
   "id": "29a7f847",
   "metadata": {},
   "outputs": [
    {
     "name": "stdout",
     "output_type": "stream",
     "text": [
      "Games : 58.14 %\n",
      "Entertainment : 7.89 %\n",
      "Photo & Video : 4.97 %\n",
      "Education : 3.66 %\n",
      "Social Networking : 3.29 %\n",
      "Shopping : 2.61 %\n",
      "Utilities : 2.52 %\n",
      "Sports : 2.14 %\n",
      "Music : 2.05 %\n",
      "Health & Fitness : 2.02 %\n",
      "Productivity : 1.74 %\n",
      "Lifestyle : 1.58 %\n",
      "News : 1.34 %\n",
      "Travel : 1.24 %\n",
      "Finance : 1.12 %\n",
      "Weather : 0.87 %\n",
      "Food & Drink : 0.81 %\n",
      "Reference : 0.56 %\n",
      "Business : 0.53 %\n",
      "Book : 0.43 %\n",
      "Navigation : 0.19 %\n",
      "Medical : 0.19 %\n",
      "Catalogs : 0.12 %\n"
     ]
    }
   ],
   "source": [
    "display_table(free_apple_data, 12)"
   ]
  },
  {
   "cell_type": "markdown",
   "id": "a7a22948",
   "metadata": {},
   "source": [
    "## App Data insights\n",
    "### Apple App store\n",
    "Looking at the free, english apps from the apple app store the vast majority (58.14%) of the apps are games. Close second, but only a fraction of the first are Entertainment (7,89%), and almost half that in the third place we have Photo & video apps(4,97%).\n",
    "### Google play store\n",
    "Looking at the Google Play store data majority of the apps fell into the three categories Family (18.91%), Game (9.72%) and Tools (8.46%), and the most dominating genres were Tools (8.45%), Entertainment (6.07%) and Education (5.35%)\n",
    "### Insights\n",
    "Looking at both datasets we can arrive at the conclusion, that Games, that are family friendly, or educational would fall into the most popular app category, and would provide the most success."
   ]
  },
  {
   "cell_type": "code",
   "execution_count": 41,
   "id": "828b90df",
   "metadata": {},
   "outputs": [],
   "source": [
    "def convert_users_to_int(users):\n",
    "    if users[-1] == '+':\n",
    "        return(int(users[:-1].replace(',' , '')))\n",
    "    else: \n",
    "        return(int(users.replace(',' , '')))"
   ]
  },
  {
   "cell_type": "code",
   "execution_count": 42,
   "id": "4eb4cd72",
   "metadata": {},
   "outputs": [],
   "source": [
    "def avg_users_per_genre(dataset, genre_id, user_id):\n",
    "    users_per_genre = {}\n",
    "    frequency = {}\n",
    "    for entry in dataset:\n",
    "        key = entry[genre_id]\n",
    "        if key in users_per_genre:\n",
    "            users_per_genre[key] += convert_users_to_int(entry[user_id])\n",
    "            frequency[key] += 1\n",
    "        else:\n",
    "            users_per_genre[key] = convert_users_to_int(entry[user_id])\n",
    "            frequency[key] = 1\n",
    "    for key in users_per_genre:\n",
    "        users_per_genre[key] = float(\"{:.2f}\".format(users_per_genre[key] / frequency[key]))\n",
    "        \n",
    "    return users_per_genre\n",
    "           "
   ]
  },
  {
   "cell_type": "code",
   "execution_count": 43,
   "id": "3a55a84d",
   "metadata": {},
   "outputs": [
    {
     "data": {
      "text/plain": [
       "{'ART_AND_DESIGN': 1986335.09,\n",
       " 'AUTO_AND_VEHICLES': 647317.82,\n",
       " 'BEAUTY': 513151.89,\n",
       " 'BOOKS_AND_REFERENCE': 8767811.89,\n",
       " 'BUSINESS': 1712290.15,\n",
       " 'COMICS': 817657.27,\n",
       " 'COMMUNICATION': 38456119.17,\n",
       " 'DATING': 854028.83,\n",
       " 'EDUCATION': 1833495.15,\n",
       " 'ENTERTAINMENT': 11640705.88,\n",
       " 'EVENTS': 253542.22,\n",
       " 'FINANCE': 1387692.48,\n",
       " 'FOOD_AND_DRINK': 1924897.74,\n",
       " 'HEALTH_AND_FITNESS': 4188821.99,\n",
       " 'HOUSE_AND_HOME': 1331540.56,\n",
       " 'LIBRARIES_AND_DEMO': 638503.73,\n",
       " 'LIFESTYLE': 1437816.27,\n",
       " 'GAME': 15588015.6,\n",
       " 'FAMILY': 3695641.82,\n",
       " 'MEDICAL': 120550.62,\n",
       " 'SOCIAL': 23253652.13,\n",
       " 'SHOPPING': 7036877.31,\n",
       " 'PHOTOGRAPHY': 17840110.4,\n",
       " 'SPORTS': 3638640.14,\n",
       " 'TRAVEL_AND_LOCAL': 13984077.71,\n",
       " 'TOOLS': 10801391.3,\n",
       " 'PERSONALIZATION': 5201482.61,\n",
       " 'PRODUCTIVITY': 16787331.34,\n",
       " 'PARENTING': 542603.62,\n",
       " 'WEATHER': 5074486.2,\n",
       " 'VIDEO_PLAYERS': 24727872.45,\n",
       " 'NEWS_AND_MAGAZINES': 9549178.47,\n",
       " 'MAPS_AND_NAVIGATION': 4056941.77}"
      ]
     },
     "execution_count": 43,
     "metadata": {},
     "output_type": "execute_result"
    }
   ],
   "source": [
    "avg_users_per_genre(free_google_data, 1, 5)"
   ]
  },
  {
   "cell_type": "code",
   "execution_count": 44,
   "id": "4a2c1b0c",
   "metadata": {},
   "outputs": [
    {
     "data": {
      "text/plain": [
       "{'Art & Design': 2122850.94,\n",
       " 'Art & Design;Creativity': 285000.0,\n",
       " 'Auto & Vehicles': 647317.82,\n",
       " 'Beauty': 513151.89,\n",
       " 'Books & Reference': 8767811.89,\n",
       " 'Business': 1712290.15,\n",
       " 'Comics': 831873.15,\n",
       " 'Comics;Creativity': 50000.0,\n",
       " 'Communication': 38456119.17,\n",
       " 'Dating': 854028.83,\n",
       " 'Education': 550185.44,\n",
       " 'Education;Creativity': 2875000.0,\n",
       " 'Education;Education': 4759517.0,\n",
       " 'Education;Pretend Play': 1800000.0,\n",
       " 'Education;Brain Games': 5333333.33,\n",
       " 'Entertainment': 5602792.78,\n",
       " 'Entertainment;Brain Games': 3314285.71,\n",
       " 'Entertainment;Creativity': 4000000.0,\n",
       " 'Entertainment;Music & Video': 6413333.33,\n",
       " 'Events': 253542.22,\n",
       " 'Finance': 1387692.48,\n",
       " 'Food & Drink': 1924897.74,\n",
       " 'Health & Fitness': 4188821.99,\n",
       " 'House & Home': 1331540.56,\n",
       " 'Libraries & Demo': 638503.73,\n",
       " 'Lifestyle': 1412998.34,\n",
       " 'Lifestyle;Pretend Play': 10000000.0,\n",
       " 'Card': 3815462.5,\n",
       " 'Arcade': 22888365.49,\n",
       " 'Puzzle': 8302861.91,\n",
       " 'Racing': 15910645.68,\n",
       " 'Sports': 4596842.62,\n",
       " 'Casual': 19569221.6,\n",
       " 'Simulation': 3475484.09,\n",
       " 'Adventure': 4922785.33,\n",
       " 'Trivia': 3475712.7,\n",
       " 'Action': 12603588.87,\n",
       " 'Word': 9094458.7,\n",
       " 'Role Playing': 3965645.42,\n",
       " 'Strategy': 11199902.53,\n",
       " 'Board': 4759209.12,\n",
       " 'Music': 9445583.33,\n",
       " 'Action;Action & Adventure': 5888888.89,\n",
       " 'Casual;Brain Games': 1425916.67,\n",
       " 'Educational;Creativity': 2333333.33,\n",
       " 'Puzzle;Brain Games': 9280666.67,\n",
       " 'Educational;Education': 1737143.14,\n",
       " 'Casual;Pretend Play': 6957142.86,\n",
       " 'Educational;Brain Games': 4433333.33,\n",
       " 'Art & Design;Pretend Play': 500000.0,\n",
       " 'Educational;Pretend Play': 9375000.0,\n",
       " 'Entertainment;Education': 1000000.0,\n",
       " 'Casual;Education': 1000000.0,\n",
       " 'Casual;Creativity': 5333333.33,\n",
       " 'Casual;Action & Adventure': 12916666.67,\n",
       " 'Music;Music & Video': 5050000.0,\n",
       " 'Arcade;Pretend Play': 1000000.0,\n",
       " 'Adventure;Action & Adventure': 35333333.33,\n",
       " 'Role Playing;Action & Adventure': 7000000.0,\n",
       " 'Simulation;Pretend Play': 550000.0,\n",
       " 'Puzzle;Creativity': 750000.0,\n",
       " 'Simulation;Action & Adventure': 4857142.86,\n",
       " 'Racing;Action & Adventure': 8816666.67,\n",
       " 'Sports;Action & Adventure': 5050000.0,\n",
       " 'Educational;Action & Adventure': 17016666.67,\n",
       " 'Arcade;Action & Adventure': 3190909.18,\n",
       " 'Entertainment;Action & Adventure': 2333333.33,\n",
       " 'Art & Design;Action & Adventure': 100000.0,\n",
       " 'Puzzle;Action & Adventure': 18366666.67,\n",
       " 'Education;Action & Adventure': 1000000.0,\n",
       " 'Strategy;Action & Adventure': 1000000.0,\n",
       " 'Music & Audio;Music & Video': 500000.0,\n",
       " 'Health & Fitness;Education': 100000.0,\n",
       " 'Board;Action & Adventure': 3000000.0,\n",
       " 'Board;Brain Games': 407142.86,\n",
       " 'Casual;Music & Video': 10000000.0,\n",
       " 'Education;Music & Video': 2033333.33,\n",
       " 'Role Playing;Pretend Play': 5275000.0,\n",
       " 'Entertainment;Pretend Play': 3000000.0,\n",
       " 'Medical': 120550.62,\n",
       " 'Social': 23253652.13,\n",
       " 'Shopping': 7036877.31,\n",
       " 'Photography': 17840110.4,\n",
       " 'Travel & Local': 14051476.15,\n",
       " 'Travel & Local;Action & Adventure': 100000.0,\n",
       " 'Tools': 10802461.25,\n",
       " 'Tools;Education': 10000000.0,\n",
       " 'Personalization': 5201482.61,\n",
       " 'Productivity': 16787331.34,\n",
       " 'Parenting': 467977.5,\n",
       " 'Parenting;Music & Video': 1118333.33,\n",
       " 'Parenting;Education': 452857.14,\n",
       " 'Parenting;Brain Games': 1000000.0,\n",
       " 'Weather': 5074486.2,\n",
       " 'Video Players & Editors': 24947335.8,\n",
       " 'Video Players & Editors;Music & Video': 7500000.0,\n",
       " 'Video Players & Editors;Creativity': 5000000.0,\n",
       " 'News & Magazines': 9549178.47,\n",
       " 'Maps & Navigation': 4056941.77,\n",
       " 'Health & Fitness;Action & Adventure': 1000000.0,\n",
       " 'Educational': 411184.85,\n",
       " 'Casino': 3427910.53,\n",
       " 'Trivia;Education': 100.0,\n",
       " 'Lifestyle;Education': 100000.0,\n",
       " 'Card;Action & Adventure': 10000000.0,\n",
       " 'Books & Reference;Education': 1000.0,\n",
       " 'Simulation;Education': 500.0,\n",
       " 'Puzzle;Education': 100000.0,\n",
       " 'Adventure;Education': 10000000.0,\n",
       " 'Role Playing;Brain Games': 10000000.0,\n",
       " 'Strategy;Education': 500000.0,\n",
       " 'Racing;Pretend Play': 1000000.0,\n",
       " 'Communication;Creativity': 500000.0,\n",
       " 'Strategy;Creativity': 1000000.0}"
      ]
     },
     "execution_count": 44,
     "metadata": {},
     "output_type": "execute_result"
    }
   ],
   "source": [
    "avg_users_per_genre(free_google_data, 9, 5)"
   ]
  },
  {
   "cell_type": "code",
   "execution_count": 45,
   "id": "f341b04a",
   "metadata": {},
   "outputs": [
    {
     "data": {
      "text/plain": [
       "{'Productivity': 21028.41,\n",
       " 'Weather': 52279.89,\n",
       " 'Shopping': 26919.69,\n",
       " 'Reference': 74942.11,\n",
       " 'Finance': 31467.94,\n",
       " 'Music': 57326.53,\n",
       " 'Utilities': 18684.46,\n",
       " 'Travel': 28243.8,\n",
       " 'Social Networking': 71548.35,\n",
       " 'Sports': 23008.9,\n",
       " 'Health & Fitness': 23298.02,\n",
       " 'Games': 22812.92,\n",
       " 'Food & Drink': 33333.92,\n",
       " 'News': 21248.02,\n",
       " 'Book': 39758.5,\n",
       " 'Photo & Video': 28441.54,\n",
       " 'Entertainment': 14029.83,\n",
       " 'Business': 7491.12,\n",
       " 'Lifestyle': 16485.76,\n",
       " 'Education': 7003.98,\n",
       " 'Navigation': 86090.33,\n",
       " 'Medical': 612.0,\n",
       " 'Catalogs': 4004.0}"
      ]
     },
     "execution_count": 45,
     "metadata": {},
     "output_type": "execute_result"
    }
   ],
   "source": [
    "avg_users_per_genre(free_apple_data, 12, 6)"
   ]
  },
  {
   "cell_type": "code",
   "execution_count": null,
   "id": "e72c5453",
   "metadata": {},
   "outputs": [],
   "source": []
  },
  {
   "cell_type": "code",
   "execution_count": null,
   "id": "64b712ef",
   "metadata": {},
   "outputs": [],
   "source": []
  }
 ],
 "metadata": {
  "kernelspec": {
   "display_name": "Python 3 (ipykernel)",
   "language": "python",
   "name": "python3"
  },
  "language_info": {
   "codemirror_mode": {
    "name": "ipython",
    "version": 3
   },
   "file_extension": ".py",
   "mimetype": "text/x-python",
   "name": "python",
   "nbconvert_exporter": "python",
   "pygments_lexer": "ipython3",
   "version": "3.9.12"
  }
 },
 "nbformat": 4,
 "nbformat_minor": 5
}
